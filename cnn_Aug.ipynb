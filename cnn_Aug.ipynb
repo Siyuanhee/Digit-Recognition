{
 "cells": [
  {
   "cell_type": "markdown",
   "metadata": {},
   "source": [
    "# Home 3: Build a CNN for image recognition.\n",
    "\n",
    "### Name: [Siyuan He]\n"
   ]
  },
  {
   "cell_type": "markdown",
   "metadata": {},
   "source": [
    "## 0. You will do the following:\n",
    "\n",
    "1. Read, complete, and run my code.\n",
    "\n",
    "2. **Make substantial improvements** to maximize the accurcy.\n",
    "    \n",
    "3. Convert the .IPYNB file to .HTML file.\n",
    "\n",
    "    * The HTML file must contain the code and the output after execution.\n",
    "    \n",
    "4. Upload this .HTML file to your Github repo.\n",
    "\n",
    "4. Submit the link to this .HTML file to Canvas.\n",
    "\n",
    "    * Example: https://github.com/wangshusen/CS583A-2019Spring/blob/master/homework/HM3/cnn.html\n"
   ]
  },
  {
   "cell_type": "markdown",
   "metadata": {},
   "source": [
    "## 1. Data preparation"
   ]
  },
  {
   "cell_type": "markdown",
   "metadata": {},
   "source": [
    "### 1.1. Load data\n"
   ]
  },
  {
   "cell_type": "code",
   "execution_count": 1,
   "metadata": {},
   "outputs": [
    {
     "name": "stderr",
     "output_type": "stream",
     "text": [
      "Using TensorFlow backend.\n"
     ]
    },
    {
     "name": "stdout",
     "output_type": "stream",
     "text": [
      "shape of x_train: (50000, 32, 32, 3)\n",
      "shape of y_train: (50000, 1)\n",
      "shape of x_test: (10000, 32, 32, 3)\n",
      "shape of y_test: (10000, 1)\n",
      "number of classes: 10\n"
     ]
    }
   ],
   "source": [
    "from keras.datasets import cifar10\n",
    "import numpy as np\n",
    "\n",
    "(x_train, y_train), (x_test, y_test) = cifar10.load_data()\n",
    "\n",
    "print('shape of x_train: ' + str(x_train.shape))\n",
    "print('shape of y_train: ' + str(y_train.shape))\n",
    "print('shape of x_test: ' + str(x_test.shape))\n",
    "print('shape of y_test: ' + str(y_test.shape))\n",
    "print('number of classes: ' + str(np.max(y_train) - np.min(y_train) + 1))"
   ]
  },
  {
   "cell_type": "markdown",
   "metadata": {},
   "source": [
    "### 1.2. One-hot encode the labels\n",
    "\n",
    "In the input, a label is a scalar in $\\{0, 1, \\cdots , 9\\}$. One-hot encode transform such a scalar to a $10$-dim vector. E.g., a scalar ```y_train[j]=3``` is transformed to the vector ```y_train_vec[j]=[0, 0, 0, 1, 0, 0, 0, 0, 0, 0]```.\n",
    "\n",
    "1. Define a function ```to_one_hot``` that transforms an $n\\times 1$ array to a $n\\times 10$ matrix.\n",
    "\n",
    "2. Apply the function to ```y_train``` and ```y_test```."
   ]
  },
  {
   "cell_type": "code",
   "execution_count": 2,
   "metadata": {},
   "outputs": [
    {
     "name": "stdout",
     "output_type": "stream",
     "text": [
      "Shape of y_train_vec: (50000, 10)\n",
      "Shape of y_test_vec: (10000, 10)\n",
      "[6]\n",
      "[ 0.  0.  0.  0.  0.  0.  1.  0.  0.  0.]\n"
     ]
    }
   ],
   "source": [
    "def to_one_hot(y, num_class=10):\n",
    "    one_hot_label = np.zeros((len(y),num_class))\n",
    "    for i,label in enumerate(y):\n",
    "        one_hot_label[i,label] = 1.0\n",
    "    return one_hot_label\n",
    "\n",
    "y_train_vec = to_one_hot(y_train)\n",
    "y_test_vec = to_one_hot(y_test)\n",
    "\n",
    "print('Shape of y_train_vec: ' + str(y_train_vec.shape))\n",
    "print('Shape of y_test_vec: ' + str(y_test_vec.shape))\n",
    "\n",
    "print(y_train[0])\n",
    "print(y_train_vec[0])"
   ]
  },
  {
   "cell_type": "markdown",
   "metadata": {},
   "source": [
    "#### Remark: the outputs should be\n",
    "* Shape of y_train_vec: (50000, 10)\n",
    "* Shape of y_test_vec: (10000, 10)\n",
    "* [6]\n",
    "* [0. 0. 0. 0. 0. 0. 1. 0. 0. 0.]"
   ]
  },
  {
   "cell_type": "markdown",
   "metadata": {},
   "source": [
    "### 1.3. Randomly partition the training set to training and validation sets\n",
    "\n",
    "Randomly partition the 50K training samples to 2 sets:\n",
    "* a training set containing 40K samples\n",
    "* a validation set containing 10K samples\n"
   ]
  },
  {
   "cell_type": "code",
   "execution_count": 3,
   "metadata": {},
   "outputs": [
    {
     "name": "stdout",
     "output_type": "stream",
     "text": [
      "Shape of x_tr: (40000, 32, 32, 3)\n",
      "Shape of y_tr: (40000, 10)\n",
      "Shape of x_val: (10000, 32, 32, 3)\n",
      "Shape of y_val: (10000, 10)\n"
     ]
    }
   ],
   "source": [
    "rand_indices = np.random.permutation(50000)\n",
    "train_indices = rand_indices[0:40000]\n",
    "valid_indices = rand_indices[40000:50000]\n",
    "\n",
    "x_val = x_train[valid_indices, :]\n",
    "y_val = y_train_vec[valid_indices, :]\n",
    "\n",
    "x_tr = x_train[train_indices, :]\n",
    "y_tr = y_train_vec[train_indices, :]\n",
    "\n",
    "print('Shape of x_tr: ' + str(x_tr.shape))\n",
    "print('Shape of y_tr: ' + str(y_tr.shape))\n",
    "print('Shape of x_val: ' + str(x_val.shape))\n",
    "print('Shape of y_val: ' + str(y_val.shape))"
   ]
  },
  {
   "cell_type": "code",
   "execution_count": 4,
   "metadata": {
    "collapsed": true
   },
   "outputs": [],
   "source": [
    "#data augmentation\n",
    "from keras.preprocessing.image import ImageDataGenerator\n",
    "\n",
    "train_datagen = ImageDataGenerator()\n",
    "\n",
    "train_datagen = ImageDataGenerator(\n",
    "    rotation_range = 20,\n",
    "    width_shift_range = 0.2,\n",
    "    height_shift_range = 0.2,)"
   ]
  },
  {
   "cell_type": "code",
   "execution_count": 5,
   "metadata": {
    "collapsed": true
   },
   "outputs": [],
   "source": [
    "batch_size = 32\n",
    "train_datagen.fit(x_tr)\n",
    "train_generator = train_datagen.flow(x_tr,y_tr,batch_size=batch_size)"
   ]
  },
  {
   "cell_type": "markdown",
   "metadata": {},
   "source": [
    "## 2. Build a CNN and tune its hyper-parameters\n",
    "\n",
    "1. Build a convolutional neural network model\n",
    "2. Use the validation data to tune the hyper-parameters (e.g., network structure, and optimization algorithm)\n",
    "    * Do NOT use test data for hyper-parameter tuning!!!\n",
    "3. Try to achieve a validation accuracy as high as possible."
   ]
  },
  {
   "cell_type": "markdown",
   "metadata": {},
   "source": [
    "### Remark: \n",
    "\n",
    "The following CNN is just an example. You are supposed to make **substantial improvements** such as:\n",
    "* Add more layers.\n",
    "* Use regularizations, e.g., dropout.\n",
    "* Use batch normalization."
   ]
  },
  {
   "cell_type": "code",
   "execution_count": 6,
   "metadata": {},
   "outputs": [
    {
     "name": "stdout",
     "output_type": "stream",
     "text": [
      "_________________________________________________________________\n",
      "Layer (type)                 Output Shape              Param #   \n",
      "=================================================================\n",
      "conv2d_1 (Conv2D)            (None, 32, 32, 32)        896       \n",
      "_________________________________________________________________\n",
      "batch_normalization_1 (Batch (None, 32, 32, 32)        128       \n",
      "_________________________________________________________________\n",
      "activation_1 (Activation)    (None, 32, 32, 32)        0         \n",
      "_________________________________________________________________\n",
      "conv2d_2 (Conv2D)            (None, 32, 32, 32)        9248      \n",
      "_________________________________________________________________\n",
      "batch_normalization_2 (Batch (None, 32, 32, 32)        128       \n",
      "_________________________________________________________________\n",
      "activation_2 (Activation)    (None, 32, 32, 32)        0         \n",
      "_________________________________________________________________\n",
      "max_pooling2d_1 (MaxPooling2 (None, 16, 16, 32)        0         \n",
      "_________________________________________________________________\n",
      "conv2d_3 (Conv2D)            (None, 16, 16, 64)        18496     \n",
      "_________________________________________________________________\n",
      "batch_normalization_3 (Batch (None, 16, 16, 64)        256       \n",
      "_________________________________________________________________\n",
      "activation_3 (Activation)    (None, 16, 16, 64)        0         \n",
      "_________________________________________________________________\n",
      "conv2d_4 (Conv2D)            (None, 16, 16, 64)        36928     \n",
      "_________________________________________________________________\n",
      "batch_normalization_4 (Batch (None, 16, 16, 64)        256       \n",
      "_________________________________________________________________\n",
      "activation_4 (Activation)    (None, 16, 16, 64)        0         \n",
      "_________________________________________________________________\n",
      "max_pooling2d_2 (MaxPooling2 (None, 8, 8, 64)          0         \n",
      "_________________________________________________________________\n",
      "conv2d_5 (Conv2D)            (None, 8, 8, 128)         73856     \n",
      "_________________________________________________________________\n",
      "batch_normalization_5 (Batch (None, 8, 8, 128)         512       \n",
      "_________________________________________________________________\n",
      "activation_5 (Activation)    (None, 8, 8, 128)         0         \n",
      "_________________________________________________________________\n",
      "conv2d_6 (Conv2D)            (None, 8, 8, 128)         147584    \n",
      "_________________________________________________________________\n",
      "batch_normalization_6 (Batch (None, 8, 8, 128)         512       \n",
      "_________________________________________________________________\n",
      "activation_6 (Activation)    (None, 8, 8, 128)         0         \n",
      "_________________________________________________________________\n",
      "max_pooling2d_3 (MaxPooling2 (None, 4, 4, 128)         0         \n",
      "_________________________________________________________________\n",
      "flatten_1 (Flatten)          (None, 2048)              0         \n",
      "_________________________________________________________________\n",
      "dropout_1 (Dropout)          (None, 2048)              0         \n",
      "_________________________________________________________________\n",
      "dense_1 (Dense)              (None, 128)               262272    \n",
      "_________________________________________________________________\n",
      "batch_normalization_7 (Batch (None, 128)               512       \n",
      "_________________________________________________________________\n",
      "activation_7 (Activation)    (None, 128)               0         \n",
      "_________________________________________________________________\n",
      "dense_2 (Dense)              (None, 10)                1290      \n",
      "=================================================================\n",
      "Total params: 552,874\n",
      "Trainable params: 551,722\n",
      "Non-trainable params: 1,152\n",
      "_________________________________________________________________\n"
     ]
    }
   ],
   "source": [
    "from keras import models\n",
    "from keras import layers\n",
    "\n",
    "\n",
    "model = models.Sequential()\n",
    "model.add(layers.Conv2D(32, (3, 3), padding='same', input_shape=(32, 32, 3)))\n",
    "model.add(layers.BatchNormalization())\n",
    "model.add(layers.Activation('relu'))\n",
    "model.add(layers.Conv2D(32, (3, 3), padding='same'))\n",
    "model.add(layers.BatchNormalization())\n",
    "model.add(layers.Activation('relu'))\n",
    "model.add(layers.MaxPooling2D((2, 2)))\n",
    "\n",
    "model.add(layers.Conv2D(64, (3, 3), padding='same'))\n",
    "model.add(layers.BatchNormalization())\n",
    "model.add(layers.Activation('relu'))\n",
    "model.add(layers.Conv2D(64, (3, 3), padding='same'))\n",
    "model.add(layers.BatchNormalization())\n",
    "model.add(layers.Activation('relu'))\n",
    "model.add(layers.MaxPooling2D((2, 2)))\n",
    "\n",
    "model.add(layers.Conv2D(128, (3, 3), padding='same'))\n",
    "model.add(layers.BatchNormalization())\n",
    "model.add(layers.Activation('relu'))\n",
    "model.add(layers.Conv2D(128, (3, 3), padding='same'))\n",
    "model.add(layers.BatchNormalization())\n",
    "model.add(layers.Activation('relu'))\n",
    "model.add(layers.MaxPooling2D((2, 2)))\n",
    "\n",
    "# model.add(layers.Conv2D(128, (3, 3)))\n",
    "# model.add(layers.BatchNormalization())\n",
    "# model.add(layers.Activation('relu'))\n",
    "# model.add(layers.MaxPooling2D((2, 2)))\n",
    "\n",
    "model.add(layers.Flatten())\n",
    "model.add(layers.Dropout(0.5))\n",
    "\n",
    "model.add(layers.Dense(128))\n",
    "model.add(layers.BatchNormalization())\n",
    "model.add(layers.Activation('relu'))\n",
    "\n",
    "model.add(layers.Dense(10, activation='softmax'))\n",
    "\n",
    "model.summary()\n"
   ]
  },
  {
   "cell_type": "code",
   "execution_count": 7,
   "metadata": {
    "collapsed": true
   },
   "outputs": [],
   "source": [
    "from keras import optimizers\n",
    "\n",
    "learning_rate = 0.0001 # to be tuned!\n",
    "\n",
    "model.compile(loss='categorical_crossentropy',\n",
    "              optimizer=optimizers.RMSprop(lr=learning_rate),\n",
    "              metrics=['acc'])"
   ]
  },
  {
   "cell_type": "code",
   "execution_count": 8,
   "metadata": {},
   "outputs": [
    {
     "name": "stdout",
     "output_type": "stream",
     "text": [
      "Epoch 1/50\n",
      "1250/1250 [==============================] - 404s 324ms/step - loss: 1.8207 - acc: 0.3364 - val_loss: 1.3644 - val_acc: 0.5124\n",
      "Epoch 2/50\n",
      "1250/1250 [==============================] - 404s 323ms/step - loss: 1.5093 - acc: 0.4515 - val_loss: 1.2280 - val_acc: 0.5683\n",
      "Epoch 3/50\n",
      "1250/1250 [==============================] - 382s 305ms/step - loss: 1.3776 - acc: 0.4988 - val_loss: 1.1248 - val_acc: 0.6043\n",
      "Epoch 4/50\n",
      "1250/1250 [==============================] - 454s 363ms/step - loss: 1.2938 - acc: 0.5315 - val_loss: 1.1111 - val_acc: 0.6056\n",
      "Epoch 5/50\n",
      "1250/1250 [==============================] - 456s 365ms/step - loss: 1.2237 - acc: 0.5575 - val_loss: 1.0569 - val_acc: 0.6232\n",
      "Epoch 6/50\n",
      "1250/1250 [==============================] - 442s 354ms/step - loss: 1.1749 - acc: 0.5774 - val_loss: 0.9568 - val_acc: 0.6636\n",
      "Epoch 7/50\n",
      "1250/1250 [==============================] - 466s 373ms/step - loss: 1.1293 - acc: 0.5992 - val_loss: 0.9500 - val_acc: 0.6612\n",
      "Epoch 8/50\n",
      "1250/1250 [==============================] - 463s 370ms/step - loss: 1.0906 - acc: 0.6079 - val_loss: 0.9299 - val_acc: 0.6722\n",
      "Epoch 9/50\n",
      "1250/1250 [==============================] - 458s 366ms/step - loss: 1.0645 - acc: 0.6210 - val_loss: 0.8590 - val_acc: 0.6959\n",
      "Epoch 10/50\n",
      "1250/1250 [==============================] - 465s 372ms/step - loss: 1.0285 - acc: 0.6341 - val_loss: 0.8428 - val_acc: 0.7030\n",
      "Epoch 11/50\n",
      "1250/1250 [==============================] - 466s 372ms/step - loss: 0.9961 - acc: 0.6465 - val_loss: 0.7710 - val_acc: 0.7315\n",
      "Epoch 12/50\n",
      "1250/1250 [==============================] - 441s 353ms/step - loss: 0.9775 - acc: 0.6552 - val_loss: 0.9004 - val_acc: 0.6854\n",
      "Epoch 13/50\n",
      "1250/1250 [==============================] - 472s 378ms/step - loss: 0.9547 - acc: 0.6633 - val_loss: 0.7708 - val_acc: 0.7341\n",
      "Epoch 14/50\n",
      "1250/1250 [==============================] - 458s 367ms/step - loss: 0.9334 - acc: 0.6724 - val_loss: 0.7701 - val_acc: 0.7293\n",
      "Epoch 15/50\n",
      "1250/1250 [==============================] - 408s 326ms/step - loss: 0.9074 - acc: 0.6783 - val_loss: 0.7774 - val_acc: 0.7331\n",
      "Epoch 16/50\n",
      "1250/1250 [==============================] - 403s 322ms/step - loss: 0.8976 - acc: 0.6823 - val_loss: 0.7607 - val_acc: 0.7328\n",
      "Epoch 17/50\n",
      "1250/1250 [==============================] - 399s 320ms/step - loss: 0.8824 - acc: 0.6902 - val_loss: 0.7489 - val_acc: 0.7392\n",
      "Epoch 18/50\n",
      "1250/1250 [==============================] - 388s 310ms/step - loss: 0.8650 - acc: 0.6960 - val_loss: 0.6581 - val_acc: 0.7735\n",
      "Epoch 19/50\n",
      "1250/1250 [==============================] - 385s 308ms/step - loss: 0.8551 - acc: 0.7017 - val_loss: 0.7129 - val_acc: 0.7536\n",
      "Epoch 20/50\n",
      "1250/1250 [==============================] - 349s 279ms/step - loss: 0.8410 - acc: 0.7065 - val_loss: 0.6811 - val_acc: 0.7616\n",
      "Epoch 21/50\n",
      "1250/1250 [==============================] - 396s 317ms/step - loss: 0.8244 - acc: 0.7124 - val_loss: 0.6744 - val_acc: 0.7673\n",
      "Epoch 22/50\n",
      "1250/1250 [==============================] - 527s 421ms/step - loss: 0.8209 - acc: 0.7142 - val_loss: 0.7084 - val_acc: 0.7561\n",
      "Epoch 23/50\n",
      "1250/1250 [==============================] - 474s 379ms/step - loss: 0.8007 - acc: 0.7195 - val_loss: 0.7615 - val_acc: 0.7486\n",
      "Epoch 24/50\n",
      "1250/1250 [==============================] - 437s 350ms/step - loss: 0.8002 - acc: 0.7213 - val_loss: 0.6173 - val_acc: 0.7891\n",
      "Epoch 25/50\n",
      "1250/1250 [==============================] - 447s 358ms/step - loss: 0.7775 - acc: 0.7284 - val_loss: 0.7493 - val_acc: 0.7582\n",
      "Epoch 26/50\n",
      "1250/1250 [==============================] - 447s 358ms/step - loss: 0.7770 - acc: 0.7288 - val_loss: 0.6659 - val_acc: 0.7702\n",
      "Epoch 27/50\n",
      "1250/1250 [==============================] - 472s 378ms/step - loss: 0.7600 - acc: 0.7345 - val_loss: 0.6443 - val_acc: 0.7775\n",
      "Epoch 28/50\n",
      "1250/1250 [==============================] - 451s 361ms/step - loss: 0.7560 - acc: 0.7361 - val_loss: 0.6940 - val_acc: 0.7693\n",
      "Epoch 29/50\n",
      "1250/1250 [==============================] - 454s 363ms/step - loss: 0.7541 - acc: 0.7374 - val_loss: 0.6547 - val_acc: 0.7796\n",
      "Epoch 30/50\n",
      "1250/1250 [==============================] - 517s 414ms/step - loss: 0.7361 - acc: 0.7429 - val_loss: 0.6517 - val_acc: 0.7765\n",
      "Epoch 31/50\n",
      "1250/1250 [==============================] - 509s 407ms/step - loss: 0.7286 - acc: 0.7454 - val_loss: 0.6321 - val_acc: 0.7853\n",
      "Epoch 32/50\n",
      "1250/1250 [==============================] - 588s 470ms/step - loss: 0.7214 - acc: 0.7513 - val_loss: 0.6276 - val_acc: 0.7904\n",
      "Epoch 33/50\n",
      "1250/1250 [==============================] - 586s 469ms/step - loss: 0.7143 - acc: 0.7509 - val_loss: 0.6349 - val_acc: 0.7858\n",
      "Epoch 34/50\n",
      "1250/1250 [==============================] - 432s 346ms/step - loss: 0.7053 - acc: 0.7551 - val_loss: 0.6228 - val_acc: 0.7916\n",
      "Epoch 35/50\n",
      "1250/1250 [==============================] - 349s 280ms/step - loss: 0.7021 - acc: 0.7591 - val_loss: 0.6319 - val_acc: 0.7872\n",
      "Epoch 36/50\n",
      "1250/1250 [==============================] - 351s 281ms/step - loss: 0.6956 - acc: 0.7595 - val_loss: 0.5899 - val_acc: 0.8007\n",
      "Epoch 37/50\n",
      "1250/1250 [==============================] - 351s 281ms/step - loss: 0.6903 - acc: 0.7618 - val_loss: 0.6528 - val_acc: 0.7843\n",
      "Epoch 38/50\n",
      "1250/1250 [==============================] - 353s 282ms/step - loss: 0.6829 - acc: 0.7630 - val_loss: 0.5578 - val_acc: 0.8093\n",
      "Epoch 39/50\n",
      "1250/1250 [==============================] - 351s 281ms/step - loss: 0.6737 - acc: 0.7680 - val_loss: 0.5544 - val_acc: 0.8123\n",
      "Epoch 40/50\n",
      "1250/1250 [==============================] - 340s 272ms/step - loss: 0.6683 - acc: 0.7701 - val_loss: 0.6438 - val_acc: 0.7953\n",
      "Epoch 41/50\n",
      "1250/1250 [==============================] - 369s 295ms/step - loss: 0.6593 - acc: 0.7719 - val_loss: 0.5582 - val_acc: 0.8117\n",
      "Epoch 42/50\n",
      "1250/1250 [==============================] - 390s 312ms/step - loss: 0.6610 - acc: 0.7727 - val_loss: 0.5985 - val_acc: 0.7977\n",
      "Epoch 43/50\n",
      "1250/1250 [==============================] - 386s 309ms/step - loss: 0.6476 - acc: 0.7777 - val_loss: 0.5550 - val_acc: 0.8126\n",
      "Epoch 44/50\n",
      "1250/1250 [==============================] - 386s 309ms/step - loss: 0.6488 - acc: 0.7775 - val_loss: 0.5844 - val_acc: 0.8057\n",
      "Epoch 45/50\n",
      "1250/1250 [==============================] - 386s 309ms/step - loss: 0.6456 - acc: 0.7744 - val_loss: 0.5575 - val_acc: 0.8136\n",
      "Epoch 46/50\n",
      "1250/1250 [==============================] - 385s 308ms/step - loss: 0.6350 - acc: 0.7817 - val_loss: 0.5968 - val_acc: 0.8017\n",
      "Epoch 47/50\n",
      "1250/1250 [==============================] - 386s 309ms/step - loss: 0.6266 - acc: 0.7818 - val_loss: 0.5838 - val_acc: 0.8099\n",
      "Epoch 48/50\n",
      "1250/1250 [==============================] - 390s 312ms/step - loss: 0.6271 - acc: 0.7845 - val_loss: 0.5840 - val_acc: 0.8046\n",
      "Epoch 49/50\n",
      "1250/1250 [==============================] - 391s 313ms/step - loss: 0.6205 - acc: 0.7857 - val_loss: 0.6270 - val_acc: 0.7907\n",
      "Epoch 50/50\n",
      "1250/1250 [==============================] - 390s 312ms/step - loss: 0.6143 - acc: 0.7865 - val_loss: 0.5411 - val_acc: 0.8187\n"
     ]
    }
   ],
   "source": [
    "history = model.fit_generator(train_generator,\n",
    "                    steps_per_epoch=len(x_tr) / batch_size , epochs=50,validation_data = (x_val, y_val))"
   ]
  },
  {
   "cell_type": "code",
   "execution_count": 9,
   "metadata": {},
   "outputs": [
    {
     "data": {
      "image/png": "[encoded data removed]",
      "text/plain": [
       "<matplotlib.figure.Figure at 0x1d1bea7f748>"
      ]
     },
     "metadata": {},
     "output_type": "display_data"
    }
   ],
   "source": [
    "import matplotlib.pyplot as plt\n",
    "%matplotlib inline\n",
    "\n",
    "acc = history.history['acc']\n",
    "val_acc = history.history['val_acc']\n",
    "\n",
    "epochs = range(len(acc))\n",
    "\n",
    "plt.plot(epochs, acc, 'bo', label='Training acc')\n",
    "plt.plot(epochs, val_acc, 'r', label='Validation acc')\n",
    "plt.xlabel('Epochs')\n",
    "plt.ylabel('Accuracy')\n",
    "plt.legend()\n",
    "plt.show()"
   ]
  },
  {
   "cell_type": "markdown",
   "metadata": {},
   "source": [
    "## 3. Train (again) and evaluate the model\n",
    "\n",
    "- To this end, you have found the \"best\" hyper-parameters. \n",
    "- Now, fix the hyper-parameters and train the network on the entire training set (all the 50K training samples)\n",
    "- Evaluate your model on the test set."
   ]
  },
  {
   "cell_type": "markdown",
   "metadata": {},
   "source": [
    "### 3.1. Train the model on the entire training set\n",
    "\n",
    "Why? Previously, you used 40K samples for training; you wasted 10K samples for the sake of hyper-parameter tuning. Now you already know the hyper-parameters, so why not using all the 50K samples for training?"
   ]
  },
  {
   "cell_type": "code",
   "execution_count": 10,
   "metadata": {},
   "outputs": [
    {
     "name": "stdout",
     "output_type": "stream",
     "text": [
      "_________________________________________________________________\n",
      "Layer (type)                 Output Shape              Param #   \n",
      "=================================================================\n",
      "conv2d_7 (Conv2D)            (None, 32, 32, 32)        896       \n",
      "_________________________________________________________________\n",
      "batch_normalization_8 (Batch (None, 32, 32, 32)        128       \n",
      "_________________________________________________________________\n",
      "activation_8 (Activation)    (None, 32, 32, 32)        0         \n",
      "_________________________________________________________________\n",
      "conv2d_8 (Conv2D)            (None, 32, 32, 32)        9248      \n",
      "_________________________________________________________________\n",
      "batch_normalization_9 (Batch (None, 32, 32, 32)        128       \n",
      "_________________________________________________________________\n",
      "activation_9 (Activation)    (None, 32, 32, 32)        0         \n",
      "_________________________________________________________________\n",
      "max_pooling2d_4 (MaxPooling2 (None, 16, 16, 32)        0         \n",
      "_________________________________________________________________\n",
      "conv2d_9 (Conv2D)            (None, 16, 16, 64)        18496     \n",
      "_________________________________________________________________\n",
      "batch_normalization_10 (Batc (None, 16, 16, 64)        256       \n",
      "_________________________________________________________________\n",
      "activation_10 (Activation)   (None, 16, 16, 64)        0         \n",
      "_________________________________________________________________\n",
      "conv2d_10 (Conv2D)           (None, 16, 16, 64)        36928     \n",
      "_________________________________________________________________\n",
      "batch_normalization_11 (Batc (None, 16, 16, 64)        256       \n",
      "_________________________________________________________________\n",
      "activation_11 (Activation)   (None, 16, 16, 64)        0         \n",
      "_________________________________________________________________\n",
      "max_pooling2d_5 (MaxPooling2 (None, 8, 8, 64)          0         \n",
      "_________________________________________________________________\n",
      "conv2d_11 (Conv2D)           (None, 8, 8, 128)         73856     \n",
      "_________________________________________________________________\n",
      "batch_normalization_12 (Batc (None, 8, 8, 128)         512       \n",
      "_________________________________________________________________\n",
      "activation_12 (Activation)   (None, 8, 8, 128)         0         \n",
      "_________________________________________________________________\n",
      "conv2d_12 (Conv2D)           (None, 8, 8, 128)         147584    \n",
      "_________________________________________________________________\n",
      "batch_normalization_13 (Batc (None, 8, 8, 128)         512       \n",
      "_________________________________________________________________\n",
      "activation_13 (Activation)   (None, 8, 8, 128)         0         \n",
      "_________________________________________________________________\n",
      "max_pooling2d_6 (MaxPooling2 (None, 4, 4, 128)         0         \n",
      "_________________________________________________________________\n",
      "flatten_2 (Flatten)          (None, 2048)              0         \n",
      "_________________________________________________________________\n",
      "dropout_2 (Dropout)          (None, 2048)              0         \n",
      "_________________________________________________________________\n",
      "dense_3 (Dense)              (None, 128)               262272    \n",
      "_________________________________________________________________\n",
      "batch_normalization_14 (Batc (None, 128)               512       \n",
      "_________________________________________________________________\n",
      "activation_14 (Activation)   (None, 128)               0         \n",
      "_________________________________________________________________\n",
      "dense_4 (Dense)              (None, 10)                1290      \n",
      "=================================================================\n",
      "Total params: 552,874\n",
      "Trainable params: 551,722\n",
      "Non-trainable params: 1,152\n",
      "_________________________________________________________________\n"
     ]
    }
   ],
   "source": [
    "model = models.Sequential()\n",
    "model.add(layers.Conv2D(32, (3, 3), padding='same', input_shape=(32, 32, 3)))\n",
    "model.add(layers.BatchNormalization())\n",
    "model.add(layers.Activation('relu'))\n",
    "model.add(layers.Conv2D(32, (3, 3), padding='same'))\n",
    "model.add(layers.BatchNormalization())\n",
    "model.add(layers.Activation('relu'))\n",
    "model.add(layers.MaxPooling2D((2, 2)))\n",
    "\n",
    "model.add(layers.Conv2D(64, (3, 3), padding='same'))\n",
    "model.add(layers.BatchNormalization())\n",
    "model.add(layers.Activation('relu'))\n",
    "model.add(layers.Conv2D(64, (3, 3), padding='same'))\n",
    "model.add(layers.BatchNormalization())\n",
    "model.add(layers.Activation('relu'))\n",
    "model.add(layers.MaxPooling2D((2, 2)))\n",
    "\n",
    "model.add(layers.Conv2D(128, (3, 3), padding='same'))\n",
    "model.add(layers.BatchNormalization())\n",
    "model.add(layers.Activation('relu'))\n",
    "model.add(layers.Conv2D(128, (3, 3), padding='same'))\n",
    "model.add(layers.BatchNormalization())\n",
    "model.add(layers.Activation('relu'))\n",
    "model.add(layers.MaxPooling2D((2, 2)))\n",
    "\n",
    "model.add(layers.Flatten())\n",
    "model.add(layers.Dropout(0.5))\n",
    "\n",
    "model.add(layers.Dense(128))\n",
    "model.add(layers.BatchNormalization())\n",
    "model.add(layers.Activation('relu'))\n",
    "\n",
    "model.add(layers.Dense(10, activation='softmax'))\n",
    "\n",
    "model.summary()"
   ]
  },
  {
   "cell_type": "code",
   "execution_count": 11,
   "metadata": {},
   "outputs": [
    {
     "name": "stdout",
     "output_type": "stream",
     "text": [
      "Epoch 1/50\n",
      "1250/1250 [==============================] - 351s 281ms/step - loss: 1.8292 - acc: 0.3331\n",
      "Epoch 2/50\n",
      "1250/1250 [==============================] - 355s 284ms/step - loss: 1.5187 - acc: 0.4482\n",
      "Epoch 3/50\n",
      "1250/1250 [==============================] - 322s 258ms/step - loss: 1.3908 - acc: 0.4965\n",
      "Epoch 4/50\n",
      "1250/1250 [==============================] - 319s 255ms/step - loss: 1.2952 - acc: 0.5329\n",
      "Epoch 5/50\n",
      "1250/1250 [==============================] - 332s 266ms/step - loss: 1.2313 - acc: 0.5588\n",
      "Epoch 6/50\n",
      "1250/1250 [==============================] - 352s 281ms/step - loss: 1.1768 - acc: 0.5771\n",
      "Epoch 7/50\n",
      "1250/1250 [==============================] - 339s 271ms/step - loss: 1.1440 - acc: 0.5924\n",
      "Epoch 8/50\n",
      "1250/1250 [==============================] - 336s 269ms/step - loss: 1.0993 - acc: 0.6081\n",
      "Epoch 9/50\n",
      "1250/1250 [==============================] - 328s 262ms/step - loss: 1.0696 - acc: 0.6200\n",
      "Epoch 10/50\n",
      "1250/1250 [==============================] - 325s 260ms/step - loss: 1.0344 - acc: 0.6318\n",
      "Epoch 11/50\n",
      "1250/1250 [==============================] - 331s 264ms/step - loss: 1.0116 - acc: 0.6398\n",
      "Epoch 12/50\n",
      "1250/1250 [==============================] - 403s 322ms/step - loss: 0.9756 - acc: 0.6533\n",
      "Epoch 13/50\n",
      "1250/1250 [==============================] - 439s 351ms/step - loss: 0.9736 - acc: 0.6541\n",
      "Epoch 14/50\n",
      "1250/1250 [==============================] - 419s 335ms/step - loss: 0.9344 - acc: 0.6681\n",
      "Epoch 15/50\n",
      "1250/1250 [==============================] - 421s 337ms/step - loss: 0.9259 - acc: 0.6720\n",
      "Epoch 16/50\n",
      "1250/1250 [==============================] - 360s 288ms/step - loss: 0.8972 - acc: 0.6839\n",
      "Epoch 17/50\n",
      "1250/1250 [==============================] - 343s 274ms/step - loss: 0.8832 - acc: 0.6886\n",
      "Epoch 18/50\n",
      "1250/1250 [==============================] - 344s 275ms/step - loss: 0.8724 - acc: 0.6914\n",
      "Epoch 19/50\n",
      "1250/1250 [==============================] - 344s 275ms/step - loss: 0.8614 - acc: 0.6982\n",
      "Epoch 20/50\n",
      "1250/1250 [==============================] - 325s 260ms/step - loss: 0.8458 - acc: 0.7048\n",
      "Epoch 21/50\n",
      "1250/1250 [==============================] - 321s 257ms/step - loss: 0.8319 - acc: 0.7094\n",
      "Epoch 22/50\n",
      "1250/1250 [==============================] - 321s 257ms/step - loss: 0.8133 - acc: 0.7175\n",
      "Epoch 23/50\n",
      "1250/1250 [==============================] - 320s 256ms/step - loss: 0.8111 - acc: 0.7168\n",
      "Epoch 24/50\n",
      "1250/1250 [==============================] - 318s 255ms/step - loss: 0.7887 - acc: 0.7268\n",
      "Epoch 25/50\n",
      "1250/1250 [==============================] - 307s 245ms/step - loss: 0.7857 - acc: 0.7256\n",
      "Epoch 26/50\n",
      "1250/1250 [==============================] - 307s 246ms/step - loss: 0.7773 - acc: 0.7289\n",
      "Epoch 27/50\n",
      "1250/1250 [==============================] - 307s 246ms/step - loss: 0.7665 - acc: 0.7305\n",
      "Epoch 28/50\n",
      "1250/1250 [==============================] - 307s 246ms/step - loss: 0.7528 - acc: 0.7361\n",
      "Epoch 29/50\n",
      "1250/1250 [==============================] - 307s 246ms/step - loss: 0.7463 - acc: 0.7405\n",
      "Epoch 30/50\n",
      "1250/1250 [==============================] - 307s 246ms/step - loss: 0.7468 - acc: 0.7381\n",
      "Epoch 31/50\n",
      "1250/1250 [==============================] - 308s 247ms/step - loss: 0.7372 - acc: 0.7469\n",
      "Epoch 32/50\n",
      "1250/1250 [==============================] - 312s 249ms/step - loss: 0.7229 - acc: 0.7496\n",
      "Epoch 33/50\n",
      "1250/1250 [==============================] - 336s 269ms/step - loss: 0.7253 - acc: 0.7494\n",
      "Epoch 34/50\n",
      "1250/1250 [==============================] - 330s 264ms/step - loss: 0.7090 - acc: 0.7564\n",
      "Epoch 35/50\n",
      "1250/1250 [==============================] - 330s 264ms/step - loss: 0.7015 - acc: 0.7602\n",
      "Epoch 36/50\n",
      "1250/1250 [==============================] - 316s 253ms/step - loss: 0.6961 - acc: 0.7601\n",
      "Epoch 37/50\n",
      "1250/1250 [==============================] - 320s 256ms/step - loss: 0.6895 - acc: 0.7595\n",
      "Epoch 38/50\n",
      "1250/1250 [==============================] - 318s 254ms/step - loss: 0.6861 - acc: 0.7622\n",
      "Epoch 39/50\n",
      "1250/1250 [==============================] - 315s 252ms/step - loss: 0.6698 - acc: 0.7661\n",
      "Epoch 40/50\n",
      "1250/1250 [==============================] - 316s 253ms/step - loss: 0.6758 - acc: 0.7654\n",
      "Epoch 41/50\n",
      "1250/1250 [==============================] - 315s 252ms/step - loss: 0.6711 - acc: 0.7667\n",
      "Epoch 42/50\n",
      "1250/1250 [==============================] - 315s 252ms/step - loss: 0.6639 - acc: 0.7709\n",
      "Epoch 43/50\n",
      "1250/1250 [==============================] - 324s 259ms/step - loss: 0.6606 - acc: 0.7725\n",
      "Epoch 44/50\n",
      "1250/1250 [==============================] - 327s 262ms/step - loss: 0.6564 - acc: 0.7722\n",
      "Epoch 45/50\n",
      "1250/1250 [==============================] - 323s 259ms/step - loss: 0.6424 - acc: 0.7784\n",
      "Epoch 46/50\n",
      "1250/1250 [==============================] - 312s 250ms/step - loss: 0.6419 - acc: 0.7785\n",
      "Epoch 47/50\n",
      "1250/1250 [==============================] - 312s 249ms/step - loss: 0.6318 - acc: 0.7808\n",
      "Epoch 48/50\n",
      "1250/1250 [==============================] - 313s 250ms/step - loss: 0.6336 - acc: 0.7807\n",
      "Epoch 49/50\n",
      "1250/1250 [==============================] - 313s 250ms/step - loss: 0.6291 - acc: 0.7819\n",
      "Epoch 50/50\n",
      "1250/1250 [==============================] - 312s 250ms/step - loss: 0.6309 - acc: 0.7821\n"
     ]
    }
   ],
   "source": [
    "# <Train your model on the entire training set (50K samples)>\n",
    "# <Use (x_train, y_train_vec) instead of (x_tr, y_tr)>\n",
    "# <Do NOT use the validation_data option (because now you do not have validation data)>\n",
    "# ...\n",
    "\n",
    "train_datagen.fit(x_train)\n",
    "train_generator_all = train_datagen.flow(x_train,y_train_vec,batch_size=batch_size)\n",
    "\n",
    "learning_rate = 0.0001 # to be tuned!\n",
    "\n",
    "model.compile(loss='categorical_crossentropy',\n",
    "              optimizer=optimizers.RMSprop(lr=learning_rate),\n",
    "              metrics=['acc'])\n",
    "\n",
    "history = model.fit_generator(train_generator_all,\n",
    "                    steps_per_epoch=len(x_tr) / batch_size , epochs=50)"
   ]
  },
  {
   "cell_type": "markdown",
   "metadata": {},
   "source": [
    "### 3.2. Evaluate the model on the test set\n",
    "\n",
    "Do NOT used the test set until now. Make sure that your model parameters and hyper-parameters are independent of the test set."
   ]
  },
  {
   "cell_type": "code",
   "execution_count": 12,
   "metadata": {},
   "outputs": [
    {
     "name": "stdout",
     "output_type": "stream",
     "text": [
      "10000/10000 [==============================] - 30s 3ms/step\n",
      "loss = 0.565274450493\n",
      "accuracy = 0.8163\n"
     ]
    }
   ],
   "source": [
    "loss_and_acc = model.evaluate(x_test, y_test_vec)\n",
    "print('loss = ' + str(loss_and_acc[0]))\n",
    "print('accuracy = ' + str(loss_and_acc[1]))"
   ]
  },
  {
   "cell_type": "code",
   "execution_count": null,
   "metadata": {
    "collapsed": true
   },
   "outputs": [],
   "source": []
  }
 ],
 "metadata": {
  "kernelspec": {
   "display_name": "Python 3",
   "language": "python",
   "name": "python3"
  },
  "language_info": {
   "codemirror_mode": {
    "name": "ipython",
    "version": 3
   },
   "file_extension": ".py",
   "mimetype": "text/x-python",
   "name": "python",
   "nbconvert_exporter": "python",
   "pygments_lexer": "ipython3",
   "version": "3.6.1"
  }
 },
 "nbformat": 4,
 "nbformat_minor": 2
}
